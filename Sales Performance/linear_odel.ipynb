{
 "cells": [
  {
   "cell_type": "code",
   "execution_count": 14,
   "metadata": {},
   "outputs": [
    {
     "data": {
      "text/plain": [
       "['linear_model.pkl']"
      ]
     },
     "execution_count": 14,
     "metadata": {},
     "output_type": "execute_result"
    }
   ],
   "source": [
    "from sklearn.linear_model import LinearRegression\n",
    "from sklearn.model_selection import train_test_split\n",
    "from sklearn.preprocessing import StandardScaler\n",
    "import pandas as pd\n",
    "import joblib\n",
    "\n",
    "# Example dataset\n",
    "data = pd.read_csv('employee_sales_data.csv')  # Replace with your data file\n",
    "X = data[['Age', 'Gender', 'EducationLevel', 'SalesTraining', 'PreviousSalesPerformance']]\n",
    "y = data['SalesPerformance']  # Replace with your target variable\n",
    "\n",
    "# Split data\n",
    "X_train, X_test, y_train, y_test = train_test_split(X, y, test_size=0.2, random_state=0)\n",
    "\n",
    "# Standardize features\n",
    "scaler = StandardScaler()\n",
    "X_train_scaled = scaler.fit_transform(X_train)\n",
    "X_test_scaled = scaler.transform(X_test)\n",
    "\n",
    "# Train model\n",
    "model = LinearRegression()\n",
    "model.fit(X_train_scaled, y_train)\n",
    "\n",
    "# Save model and scaler\n",
    "joblib.dump(model, 'linear_model.pkl')\n",
    "# joblib.dump(scaler, 'scaler.pkl')\n"
   ]
  },
  {
   "cell_type": "code",
   "execution_count": 9,
   "metadata": {},
   "outputs": [
    {
     "name": "stdout",
     "output_type": "stream",
     "text": [
      "Test Prediction: 310.14\n"
     ]
    }
   ],
   "source": [
    "import joblib\n",
    "import pandas as pd\n",
    "\n",
    "# Load the model and scaler\n",
    "model = joblib.load('linear_model.pkl')\n",
    "scaler = joblib.load('scaler.pkl')\n",
    "\n",
    "# Test with a known input\n",
    "test_data = {\n",
    "    'Age': [22],\n",
    "    'Gender': [1],  # Female\n",
    "    'EducationLevel': [3],  # PhD\n",
    "    'SalesTraining': [1],  # Yes\n",
    "    'PreviousSalesPerformance': [24353]\n",
    "}\n",
    "\n",
    "test_df = pd.DataFrame(test_data)\n",
    "test_scaled = scaler.transform(test_df)\n",
    "prediction = model.predict(test_scaled)\n",
    "\n",
    "print(f\"Test Prediction: {prediction[0]:.2f}\")\n"
   ]
  },
  {
   "cell_type": "code",
   "execution_count": 15,
   "metadata": {},
   "outputs": [
    {
     "name": "stdout",
     "output_type": "stream",
     "text": [
      "Model Coefficients: [ 0.05699984  0.03589415 -0.02025719  0.02741007  0.02894768]\n",
      "Model Intercept: 0.041358952586533805\n"
     ]
    }
   ],
   "source": [
    "print(\"Model Coefficients:\", model.coef_)\n",
    "print(\"Model Intercept:\", model.intercept_)\n"
   ]
  }
 ],
 "metadata": {
  "kernelspec": {
   "display_name": "Python 3",
   "language": "python",
   "name": "python3"
  },
  "language_info": {
   "codemirror_mode": {
    "name": "ipython",
    "version": 3
   },
   "file_extension": ".py",
   "mimetype": "text/x-python",
   "name": "python",
   "nbconvert_exporter": "python",
   "pygments_lexer": "ipython3",
   "version": "3.12.4"
  }
 },
 "nbformat": 4,
 "nbformat_minor": 2
}
