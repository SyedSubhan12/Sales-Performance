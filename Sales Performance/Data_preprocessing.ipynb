{
 "cells": [
  {
   "cell_type": "code",
   "execution_count": 30,
   "metadata": {},
   "outputs": [
    {
     "name": "stdout",
     "output_type": "stream",
     "text": [
      "   EmployeeID  Age  Gender EducationLevel  Experience SalesTraining  \\\n",
      "0           1   52  Female       Bachelor          18            No   \n",
      "1           2   37  Female       Bachelor          23           Yes   \n",
      "2           3   37    Male    High School          28           Yes   \n",
      "3           4   27    Male            PhD          27            No   \n",
      "4           5   58    Male       Bachelor          17            No   \n",
      "\n",
      "   PreviousSalesPerformance  SalesPerformance  \n",
      "0                     46948             70343  \n",
      "1                     40034             69069  \n",
      "2                     50900             65868  \n",
      "3                     30787             28203  \n",
      "4                     27625             83064  \n"
     ]
    }
   ],
   "source": [
    "import pandas as pd\n",
    "import numpy as np\n",
    "import matplotlib.pyplot as plt\n",
    "\n",
    "data = pd.read_csv('employee_sales_data.csv')\n",
    "df = pd.DataFrame(data)\n",
    "print(df.head())\n",
    "\n"
   ]
  },
  {
   "cell_type": "code",
   "execution_count": 31,
   "metadata": {},
   "outputs": [
    {
     "name": "stdout",
     "output_type": "stream",
     "text": [
      "     EmployeeID  Age  Gender  EducationLevel  Experience  SalesTraining  \\\n",
      "0             1   52       1               1          18              0   \n",
      "1             2   37       1               1          23              1   \n",
      "2             3   37       0               0          28              1   \n",
      "3             4   27       0               3          27              0   \n",
      "4             5   58       0               1          17              0   \n",
      "..          ...  ...     ...             ...         ...            ...   \n",
      "995         996   38       1               3          15              1   \n",
      "996         997   52       0               0          16              0   \n",
      "997         998   57       1               3          15              1   \n",
      "998         999   38       0               2           9              1   \n",
      "999        1000   38       1               3          22              0   \n",
      "\n",
      "     PreviousSalesPerformance  SalesPerformance  \n",
      "0                       46948             70343  \n",
      "1                       40034             69069  \n",
      "2                       50900             65868  \n",
      "3                       30787             28203  \n",
      "4                       27625             83064  \n",
      "..                        ...               ...  \n",
      "995                     38595             58280  \n",
      "996                     61157             78991  \n",
      "997                     33872             77871  \n",
      "998                     50685            100052  \n",
      "999                     58184             63766  \n",
      "\n",
      "[1000 rows x 8 columns]\n"
     ]
    }
   ],
   "source": [
    "\n",
    "df['Gender'] = df['Gender'].map({'Male': 0, 'Female': 1})\n",
    "df['SalesTraining'] = df['SalesTraining'].map({'No': 0, 'Yes': 1})\n",
    "df['EducationLevel'] = df['EducationLevel'].map({'High School': 0, 'Bachelor':1, 'Master':2, 'PhD': 3})\n",
    "\n",
    "print(df)"
   ]
  },
  {
   "cell_type": "code",
   "execution_count": 32,
   "metadata": {},
   "outputs": [],
   "source": [
    "df.to_csv('employee_sales_data.csv', index=False)"
   ]
  },
  {
   "cell_type": "code",
   "execution_count": 33,
   "metadata": {},
   "outputs": [
    {
     "data": {
      "text/plain": [
       "EmployeeID                  0\n",
       "Age                         0\n",
       "Gender                      0\n",
       "EducationLevel              0\n",
       "Experience                  0\n",
       "SalesTraining               0\n",
       "PreviousSalesPerformance    0\n",
       "SalesPerformance            0\n",
       "dtype: int64"
      ]
     },
     "execution_count": 33,
     "metadata": {},
     "output_type": "execute_result"
    }
   ],
   "source": [
    "df.isnull().sum()"
   ]
  },
  {
   "cell_type": "code",
   "execution_count": 34,
   "metadata": {},
   "outputs": [],
   "source": [
    "from sklearn.preprocessing import StandardScaler\n",
    "\n",
    "scaler = StandardScaler()\n",
    "\n",
    "df[['PreviousSalesPerformance', 'SalesPerformance']] = scaler.fit_transform(df[['PreviousSalesPerformance', 'SalesPerformance']])"
   ]
  },
  {
   "cell_type": "code",
   "execution_count": 35,
   "metadata": {},
   "outputs": [
    {
     "data": {
      "text/html": [
       "<div>\n",
       "<style scoped>\n",
       "    .dataframe tbody tr th:only-of-type {\n",
       "        vertical-align: middle;\n",
       "    }\n",
       "\n",
       "    .dataframe tbody tr th {\n",
       "        vertical-align: top;\n",
       "    }\n",
       "\n",
       "    .dataframe thead th {\n",
       "        text-align: right;\n",
       "    }\n",
       "</style>\n",
       "<table border=\"1\" class=\"dataframe\">\n",
       "  <thead>\n",
       "    <tr style=\"text-align: right;\">\n",
       "      <th></th>\n",
       "      <th>EmployeeID</th>\n",
       "      <th>Age</th>\n",
       "      <th>Gender</th>\n",
       "      <th>EducationLevel</th>\n",
       "      <th>Experience</th>\n",
       "      <th>SalesTraining</th>\n",
       "      <th>PreviousSalesPerformance</th>\n",
       "      <th>SalesPerformance</th>\n",
       "    </tr>\n",
       "  </thead>\n",
       "  <tbody>\n",
       "    <tr>\n",
       "      <th>0</th>\n",
       "      <td>1</td>\n",
       "      <td>52</td>\n",
       "      <td>1</td>\n",
       "      <td>1</td>\n",
       "      <td>18</td>\n",
       "      <td>0</td>\n",
       "      <td>-0.105762</td>\n",
       "      <td>0.007126</td>\n",
       "    </tr>\n",
       "    <tr>\n",
       "      <th>1</th>\n",
       "      <td>2</td>\n",
       "      <td>37</td>\n",
       "      <td>1</td>\n",
       "      <td>1</td>\n",
       "      <td>23</td>\n",
       "      <td>1</td>\n",
       "      <td>-0.556309</td>\n",
       "      <td>-0.059486</td>\n",
       "    </tr>\n",
       "    <tr>\n",
       "      <th>2</th>\n",
       "      <td>3</td>\n",
       "      <td>37</td>\n",
       "      <td>0</td>\n",
       "      <td>0</td>\n",
       "      <td>28</td>\n",
       "      <td>1</td>\n",
       "      <td>0.151767</td>\n",
       "      <td>-0.226853</td>\n",
       "    </tr>\n",
       "    <tr>\n",
       "      <th>3</th>\n",
       "      <td>4</td>\n",
       "      <td>27</td>\n",
       "      <td>0</td>\n",
       "      <td>3</td>\n",
       "      <td>27</td>\n",
       "      <td>0</td>\n",
       "      <td>-1.158884</td>\n",
       "      <td>-2.196198</td>\n",
       "    </tr>\n",
       "    <tr>\n",
       "      <th>4</th>\n",
       "      <td>5</td>\n",
       "      <td>58</td>\n",
       "      <td>0</td>\n",
       "      <td>1</td>\n",
       "      <td>17</td>\n",
       "      <td>0</td>\n",
       "      <td>-1.364934</td>\n",
       "      <td>0.672253</td>\n",
       "    </tr>\n",
       "    <tr>\n",
       "      <th>...</th>\n",
       "      <td>...</td>\n",
       "      <td>...</td>\n",
       "      <td>...</td>\n",
       "      <td>...</td>\n",
       "      <td>...</td>\n",
       "      <td>...</td>\n",
       "      <td>...</td>\n",
       "      <td>...</td>\n",
       "    </tr>\n",
       "    <tr>\n",
       "      <th>995</th>\n",
       "      <td>996</td>\n",
       "      <td>38</td>\n",
       "      <td>1</td>\n",
       "      <td>3</td>\n",
       "      <td>15</td>\n",
       "      <td>1</td>\n",
       "      <td>-0.650080</td>\n",
       "      <td>-0.623598</td>\n",
       "    </tr>\n",
       "    <tr>\n",
       "      <th>996</th>\n",
       "      <td>997</td>\n",
       "      <td>52</td>\n",
       "      <td>0</td>\n",
       "      <td>0</td>\n",
       "      <td>16</td>\n",
       "      <td>0</td>\n",
       "      <td>0.820159</td>\n",
       "      <td>0.459293</td>\n",
       "    </tr>\n",
       "    <tr>\n",
       "      <th>997</th>\n",
       "      <td>998</td>\n",
       "      <td>57</td>\n",
       "      <td>1</td>\n",
       "      <td>3</td>\n",
       "      <td>15</td>\n",
       "      <td>1</td>\n",
       "      <td>-0.957852</td>\n",
       "      <td>0.400733</td>\n",
       "    </tr>\n",
       "    <tr>\n",
       "      <th>998</th>\n",
       "      <td>999</td>\n",
       "      <td>38</td>\n",
       "      <td>0</td>\n",
       "      <td>2</td>\n",
       "      <td>9</td>\n",
       "      <td>1</td>\n",
       "      <td>0.137757</td>\n",
       "      <td>1.560485</td>\n",
       "    </tr>\n",
       "    <tr>\n",
       "      <th>999</th>\n",
       "      <td>1000</td>\n",
       "      <td>38</td>\n",
       "      <td>1</td>\n",
       "      <td>3</td>\n",
       "      <td>22</td>\n",
       "      <td>0</td>\n",
       "      <td>0.626425</td>\n",
       "      <td>-0.336758</td>\n",
       "    </tr>\n",
       "  </tbody>\n",
       "</table>\n",
       "<p>1000 rows × 8 columns</p>\n",
       "</div>"
      ],
      "text/plain": [
       "     EmployeeID  Age  Gender  EducationLevel  Experience  SalesTraining  \\\n",
       "0             1   52       1               1          18              0   \n",
       "1             2   37       1               1          23              1   \n",
       "2             3   37       0               0          28              1   \n",
       "3             4   27       0               3          27              0   \n",
       "4             5   58       0               1          17              0   \n",
       "..          ...  ...     ...             ...         ...            ...   \n",
       "995         996   38       1               3          15              1   \n",
       "996         997   52       0               0          16              0   \n",
       "997         998   57       1               3          15              1   \n",
       "998         999   38       0               2           9              1   \n",
       "999        1000   38       1               3          22              0   \n",
       "\n",
       "     PreviousSalesPerformance  SalesPerformance  \n",
       "0                   -0.105762          0.007126  \n",
       "1                   -0.556309         -0.059486  \n",
       "2                    0.151767         -0.226853  \n",
       "3                   -1.158884         -2.196198  \n",
       "4                   -1.364934          0.672253  \n",
       "..                        ...               ...  \n",
       "995                 -0.650080         -0.623598  \n",
       "996                  0.820159          0.459293  \n",
       "997                 -0.957852          0.400733  \n",
       "998                  0.137757          1.560485  \n",
       "999                  0.626425         -0.336758  \n",
       "\n",
       "[1000 rows x 8 columns]"
      ]
     },
     "execution_count": 35,
     "metadata": {},
     "output_type": "execute_result"
    }
   ],
   "source": [
    "df"
   ]
  },
  {
   "cell_type": "code",
   "execution_count": 36,
   "metadata": {},
   "outputs": [],
   "source": [
    "df.to_csv('employee_sales_data.csv', index=False)"
   ]
  },
  {
   "cell_type": "code",
   "execution_count": 37,
   "metadata": {},
   "outputs": [
    {
     "name": "stdout",
     "output_type": "stream",
     "text": [
      "Selected Features:  Index(['Age', 'Gender', 'Experience', 'SalesTraining',\n",
      "       'PreviousSalesPerformance'],\n",
      "      dtype='object')\n"
     ]
    }
   ],
   "source": [
    "from sklearn.feature_selection import RFE\n",
    "from sklearn.linear_model import LinearRegression\n",
    "\n",
    "# Load the dataset\n",
    "df = pd.read_csv(\"employee_sales_data.csv\")\n",
    "\n",
    "# Prepare the data\n",
    "X = df.drop(columns=['SalesPerformance'])\n",
    "y = df['SalesPerformance']\n",
    "\n",
    "# Use RFE with a linear regression model\n",
    "model = LinearRegression()\n",
    "rfe = RFE(model, n_features_to_select=5)  # Adjust the number of features to select\n",
    "fit = rfe.fit(X, y)\n",
    "\n",
    "# Print selected features\n",
    "selected_features = X.columns[fit.support_]\n",
    "print(\"Selected Features: \", selected_features)"
   ]
  }
 ],
 "metadata": {
  "kernelspec": {
   "display_name": "Python 3",
   "language": "python",
   "name": "python3"
  },
  "language_info": {
   "codemirror_mode": {
    "name": "ipython",
    "version": 3
   },
   "file_extension": ".py",
   "mimetype": "text/x-python",
   "name": "python",
   "nbconvert_exporter": "python",
   "pygments_lexer": "ipython3",
   "version": "3.12.4"
  }
 },
 "nbformat": 4,
 "nbformat_minor": 2
}
