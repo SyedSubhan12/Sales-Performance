{
 "cells": [
  {
   "cell_type": "code",
   "execution_count": 5,
   "metadata": {},
   "outputs": [
    {
     "name": "stdout",
     "output_type": "stream",
     "text": [
      "     EmployeeID  Age  Gender EducationLevel  Experience SalesTraining  \\\n",
      "0             1   52  Female       Bachelor          18            No   \n",
      "1             2   37  Female       Bachelor          23           Yes   \n",
      "2             3   37    Male    High School          28           Yes   \n",
      "3             4   27    Male            PhD          27            No   \n",
      "4             5   58    Male       Bachelor          17            No   \n",
      "..          ...  ...     ...            ...         ...           ...   \n",
      "995         996   38  Female            PhD          15           Yes   \n",
      "996         997   52    Male    High School          16            No   \n",
      "997         998   57  Female            PhD          15           Yes   \n",
      "998         999   38    Male         Master           9           Yes   \n",
      "999        1000   38  Female            PhD          22            No   \n",
      "\n",
      "     PreviousSalesPerformance  SalesPerformance  \n",
      "0                       46948             70343  \n",
      "1                       40034             69069  \n",
      "2                       50900             65868  \n",
      "3                       30787             28203  \n",
      "4                       27625             83064  \n",
      "..                        ...               ...  \n",
      "995                     38595             58280  \n",
      "996                     61157             78991  \n",
      "997                     33872             77871  \n",
      "998                     50685            100052  \n",
      "999                     58184             63766  \n",
      "\n",
      "[1000 rows x 8 columns]\n"
     ]
    }
   ],
   "source": [
    "import pandas as pd\n",
    "import numpy as np\n",
    "from faker import Faker\n",
    "\n",
    "# Initialize Faker and create synthetic data\n",
    "fake = Faker()\n",
    "\n",
    "# Define number of records\n",
    "num_records = 1000\n",
    "\n",
    "# Generate synthetic data\n",
    "data = {\n",
    "    'EmployeeID': [i for i in range(1, num_records + 1)],\n",
    "    'Age': np.random.randint(22, 60, size=num_records),\n",
    "    'Gender': np.random.choice(['Male', 'Female'], size=num_records),\n",
    "    'EducationLevel': np.random.choice(['High School', 'Bachelor', 'Master', 'PhD'], size=num_records),\n",
    "    'Experience': np.random.randint(1, 30, size=num_records),\n",
    "    'SalesTraining': np.random.choice(['Yes', 'No'], size=num_records),\n",
    "    'PreviousSalesPerformance': np.random.normal(50000, 15000, size=num_records).astype(int),\n",
    "    'SalesPerformance': np.random.normal(70000, 20000, size=num_records).astype(int)\n",
    "}\n",
    "\n",
    "df = pd.DataFrame(data)\n",
    "df.to_csv(\"employee_sales_data.csv\", index=False)\n",
    "print(df)\n"
   ]
  }
 ],
 "metadata": {
  "kernelspec": {
   "display_name": "Python 3",
   "language": "python",
   "name": "python3"
  },
  "language_info": {
   "codemirror_mode": {
    "name": "ipython",
    "version": 3
   },
   "file_extension": ".py",
   "mimetype": "text/x-python",
   "name": "python",
   "nbconvert_exporter": "python",
   "pygments_lexer": "ipython3",
   "version": "3.12.4"
  }
 },
 "nbformat": 4,
 "nbformat_minor": 2
}
